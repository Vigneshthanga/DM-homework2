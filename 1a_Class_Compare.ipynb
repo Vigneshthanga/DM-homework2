{
 "cells": [
  {
   "cell_type": "code",
   "execution_count": 19,
   "metadata": {},
   "outputs": [
    {
     "name": "stdout",
     "output_type": "stream",
     "text": [
      "[13, 17, 23, 29, 29, 33, 37, 38, 39, 43, 47, 47, 49, 49, 53, 57, 58, 61, 63, 69, 71, 73, 81]\n",
      "sum 1079\n",
      "mean 46.91304347826087\n",
      "Standard Deviation 18.27296324548241\n",
      "step 6.090987748494136\n",
      "[-5.567741206940553, -4.911033269711668, -3.925971363868339, -2.9409094580250104, -2.9409094580250104, -2.2842015207961244, -1.6274935835672386, -1.463316599260017, -1.2991396149527956, -0.6424316777239097, 0.014276259504976135, 0.014276259504976135, 0.34263022811941907, 0.34263022811941907, 0.9993381653483049, 1.6560461025771909, 1.8202230868844123, 2.3127540398060766, 2.6411080084205194, 3.6261699142638486, 3.9545238828782914, 4.282877851492734, 5.596293725950506]\n",
      "mean 46.91304347826087 mean2 48.869565217391305\n",
      "sd 18.27296324548241sd2 24.312930244524185\n",
      "step 6.090987748494136step2 8.104310081508062\n",
      "[-4.3025951458785645, -3.9324217480411323, -3.8090306154286546, -3.5622483502036997, -3.438857217591222, -3.3154660849787443, -1.9581636262414914, -1.4645990957915813, -1.2178168305666262, -0.8476434327291936, -0.47747003489176093, -0.23068776966680588, 0.016094495558149208, 0.5096590260080593, 1.1266146890704472, 1.6201792195203573, 1.8669614847453124, 2.237134882582745, 2.97748167825761, 3.9646107391574303, 4.334784136994863, 4.458175269607341, 5.445304330507161]\n",
      "23\n",
      "48.0\n",
      "48.0\n"
     ]
    },
    {
     "data": {
      "text/plain": [
       "<Figure size 432x288 with 0 Axes>"
      ]
     },
     "metadata": {},
     "output_type": "display_data"
    },
    {
     "data": {
      "image/png": "[encoded data removed]",
      "text/plain": [
       "<Figure size 432x288 with 1 Axes>"
      ]
     },
     "metadata": {
      "needs_background": "light"
     },
     "output_type": "display_data"
    },
    {
     "name": "stdout",
     "output_type": "stream",
     "text": [
      "mark 13 grade F\n",
      "mark 17 grade D\n",
      "mark 23 grade C-\n",
      "mark 29 grade C\n",
      "mark 29 grade C\n",
      "mark 33 grade C\n",
      "mark 37 grade C+\n",
      "mark 38 grade C+\n",
      "mark 39 grade C+\n",
      "mark 43 grade B-\n",
      "mark 47 grade B\n",
      "mark 47 grade B\n",
      "mark 49 grade B\n",
      "mark 49 grade B\n",
      "mark 53 grade B\n",
      "mark 57 grade B+\n",
      "mark 58 grade B+\n",
      "mark 61 grade A-\n",
      "mark 63 grade A-\n",
      "mark 69 grade A\n",
      "mark 71 grade A\n",
      "mark 73 grade A+\n",
      "mark 81 grade A+\n"
     ]
    }
   ],
   "source": [
    "#!/usr/bin/python\n",
    "import statistics\n",
    "import math\n",
    "import numpy as np\n",
    "import matplotlib.pyplot as plt\n",
    "import scipy.stats as stats\n",
    "import matplotlib.lines as mlines\n",
    "\n",
    "import statsmodels.api as sm\n",
    "from statsmodels.graphics.gofplots import qqplot_2samples\n",
    "\n",
    "marks = [47, 63, 71, 39, 47, 49, 43, 37, 81, 69, 38, 13, 29, 61, 49, 53, 57, 23, 58, 17, 73, 33, 29]\n",
    "marks2 = [20, 49, 85, 17, 33, 62, 93, 64, 37, 81, 22, 18, 45, 42, 14, 39, 67, 47, 53, 73, 58, 84, 21]\n",
    "grade = ['A+', 'A', 'A-', 'B+', 'B', 'B-', 'C+','C', 'C-', 'D', 'F']\n",
    "marks.sort()\n",
    "_sum = 0\n",
    "print(marks)\n",
    "for i in range(0, len(marks)):\n",
    "    _sum += marks[i]\n",
    "print('sum '+str(_sum))\n",
    "mean = _sum/len(marks)\n",
    "print('mean '+str(mean))\n",
    "sd = statistics.stdev(marks)\n",
    "print('Standard Deviation '+str(sd))\n",
    "step = (sd/3)\n",
    "\n",
    "print('step '+str(step))\n",
    "mean_index = 5\n",
    "\n",
    "scores = []\n",
    "\n",
    "for i in range(len(grade)):\n",
    "    scores.append(0)\n",
    "\n",
    "i = mean_index\n",
    "j = 0\n",
    "while i < len(grade):\n",
    "    scores[i] = mean - (step*j)\n",
    "    j += 1\n",
    "    i += 1\n",
    "\n",
    "i = mean_index-1\n",
    "j = 1\n",
    "while i >= 0:\n",
    "    scores[i] = mean + (step*j)\n",
    "    j += 1\n",
    "    i -= 1\n",
    "\n",
    "i = 0\n",
    "j = 0\n",
    "idx = 0\n",
    "flag = False\n",
    "\n",
    "Z = []\n",
    "while(i<len(marks)):\n",
    "    Z.append((marks[i] - mean)/step)\n",
    "    i+=1\n",
    "print(Z)\n",
    "\n",
    "i=0\n",
    "Z2=[]\n",
    "marks2.sort()\n",
    "_sum2=0\n",
    "for m in marks2:\n",
    "    _sum2+=m\n",
    "mean2 = _sum2/len(marks2)\n",
    "sd2 = statistics.stdev(marks2)\n",
    "step2 = sd2/3\n",
    "print('mean '+str(mean)+ ' mean2 '+str(mean2))\n",
    "print('sd '+str(sd)+'sd2 '+str(sd2))\n",
    "print('step '+str(step)+'step2 '+str(step2))\n",
    "while(i<len(marks2)):\n",
    "    Z2.append((marks2[i]-mean2)/step2)\n",
    "    i+=1\n",
    "print(Z2)\n",
    "\n",
    "plt.figure()\n",
    "#plt.scatter(Z, Z2)\n",
    "fig, ax = plt.subplots()\n",
    "ax.scatter(Z, Z2, c='black')\n",
    "line = mlines.Line2D([0, 1], [0, 1], color='red')\n",
    "transform = ax.transAxes\n",
    "line.set_transform(transform)\n",
    "ax.add_line(line)\n",
    "plt.xlabel('Section-1')\n",
    "plt.ylabel('Section-2')\n",
    "plt.show()\n",
    "\n",
    "\n",
    "i=0\n",
    "while (j < len(marks)):\n",
    "    idx = 0\n",
    "    flag = False\n",
    "    i = 0\n",
    "    while i < len(scores):\n",
    "        if (marks[j] >= scores[i]):\n",
    "            flag = True\n",
    "            if (i != 0):\n",
    "                print('mark '+ str(marks[j])+' grade '+str(grade[i-1]))\n",
    "            else:\n",
    "                print('mark '+ str(marks[j])+' grade '+str(grade[i]))\n",
    "            break\n",
    "        else:\n",
    "            i += 1\n",
    "    if (not flag):\n",
    "        i = len(scores)-1\n",
    "        print('mark '+ str(marks[j])+' grade '+str(grade[i]))\n",
    "    j += 1\n"
   ]
  },
  {
   "cell_type": "code",
   "execution_count": null,
   "metadata": {},
   "outputs": [],
   "source": []
  }
 ],
 "metadata": {
  "kernelspec": {
   "display_name": "Python 3",
   "language": "python",
   "name": "python3"
  },
  "language_info": {
   "codemirror_mode": {
    "name": "ipython",
    "version": 3
   },
   "file_extension": ".py",
   "mimetype": "text/x-python",
   "name": "python",
   "nbconvert_exporter": "python",
   "pygments_lexer": "ipython3",
   "version": "3.7.3"
  }
 },
 "nbformat": 4,
 "nbformat_minor": 2
}
